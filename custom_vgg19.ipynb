{
 "cells": [
  {
   "cell_type": "code",
   "execution_count": 63,
   "metadata": {},
   "outputs": [],
   "source": [
    "import imp\n",
    "import tensorflow as tf\n",
    "from tensorflow.keras.preprocessing import image_dataset_from_directory\n",
    "import random\n",
    "from tensorflow.keras.models import Sequential\n",
    "from tensorflow.keras.layers import Conv2D, MaxPooling2D, Dense, Flatten, Dropout"
   ]
  },
  {
   "cell_type": "code",
   "execution_count": 64,
   "metadata": {},
   "outputs": [],
   "source": [
    "IMAGE_SIZE = (224, 224)\n",
    "BATCH_SIZE = 8\n",
    "seed = random.randint(0, 1000)\n"
   ]
  },
  {
   "cell_type": "code",
   "execution_count": 65,
   "metadata": {},
   "outputs": [],
   "source": [
    "model = Sequential()\n",
    "# Сверточный слой\n",
    "model.add(Conv2D(16, (5, 5), padding='same', \n",
    "                 input_shape=(224, 224, 3), activation='relu'))\n",
    "# Слой подвыборки\n",
    "model.add(MaxPooling2D(pool_size=(2, 2)))\n",
    "# Сверточный слой\n",
    "model.add(Conv2D(32, (5, 5), activation='relu', padding='same'))\n",
    "# Слой подвыборки\n",
    "model.add(MaxPooling2D(pool_size=(2, 2)))\n",
    "# Сверточный слой\n",
    "model.add(Conv2D(64, (5, 5), activation='relu', padding='same'))\n",
    "# Слой подвыборки\n",
    "model.add(MaxPooling2D(pool_size=(2, 2)))\n",
    "# Сверточный слой\n",
    "model.add(Conv2D(128, (5, 5), activation='relu', padding='same'))\n",
    "# Слой подвыборки\n",
    "model.add(MaxPooling2D(pool_size=(2, 2)))\n",
    "# Полносвязная часть нейронной сети для классификации\n",
    "model.add(Flatten())\n",
    "model.add(Dense(512, activation='relu'))\n",
    "model.add(Dropout(0.2))\n",
    "model.add(Dense(256, activation='relu'))\n",
    "model.add(Dropout(0.2))\n",
    "# Выходной слой, 131 нейрон по количеству классов\n",
    "model.add(Dense(6, activation='softmax'))"
   ]
  },
  {
   "cell_type": "code",
   "execution_count": 66,
   "metadata": {},
   "outputs": [],
   "source": [
    "model.compile(loss=\"sparse_categorical_crossentropy\", optimizer=\"adam\", metrics=\"accuracy\")"
   ]
  },
  {
   "cell_type": "code",
   "execution_count": 67,
   "metadata": {},
   "outputs": [
    {
     "name": "stdout",
     "output_type": "stream",
     "text": [
      "Found 1200 files belonging to 6 classes.\n",
      "Using 1080 files for training.\n"
     ]
    }
   ],
   "source": [
    "train_data = image_dataset_from_directory(\"/home/plat1nus/Документы/Platinus-fingers-recognition/data/train_data\",\n",
    "                                          subset='training',\n",
    "                                          seed=seed,\n",
    "                                          validation_split=0.1,\n",
    "                                          batch_size=BATCH_SIZE,\n",
    "                                          image_size=IMAGE_SIZE\n",
    "\n",
    ")"
   ]
  },
  {
   "cell_type": "code",
   "execution_count": 68,
   "metadata": {},
   "outputs": [
    {
     "name": "stdout",
     "output_type": "stream",
     "text": [
      "Found 1200 files belonging to 6 classes.\n",
      "Using 120 files for validation.\n"
     ]
    }
   ],
   "source": [
    "validation_data = image_dataset_from_directory(\"/home/plat1nus/Документы/Platinus-fingers-recognition/data/train_data\",\n",
    "                                          subset='validation',\n",
    "                                          seed=seed,\n",
    "                                          validation_split=0.1,\n",
    "                                          batch_size=BATCH_SIZE,\n",
    "                                          image_size=IMAGE_SIZE\n",
    ")"
   ]
  },
  {
   "cell_type": "code",
   "execution_count": 69,
   "metadata": {},
   "outputs": [],
   "source": [
    "class_names = train_data.class_names"
   ]
  },
  {
   "cell_type": "code",
   "execution_count": 70,
   "metadata": {},
   "outputs": [
    {
     "name": "stdout",
     "output_type": "stream",
     "text": [
      "Epoch 1/2\n",
      "135/135 [==============================] - 49s 358ms/step - loss: 6.2681 - accuracy: 0.5231 - val_loss: 0.7086 - val_accuracy: 0.7333\n",
      "Epoch 2/2\n",
      "135/135 [==============================] - 48s 359ms/step - loss: 0.3366 - accuracy: 0.9028 - val_loss: 0.2511 - val_accuracy: 0.9167\n"
     ]
    },
    {
     "data": {
      "text/plain": [
       "<keras.callbacks.History at 0x7fc664e7d870>"
      ]
     },
     "execution_count": 70,
     "metadata": {},
     "output_type": "execute_result"
    }
   ],
   "source": [
    "model.fit(train_data, validation_data=validation_data, epochs=2)"
   ]
  },
  {
   "cell_type": "code",
   "execution_count": 62,
   "metadata": {},
   "outputs": [],
   "source": [
    "model.save(\"/home/plat1nus/Документы/Platinus-fingers-recognition/classifier.h5\")"
   ]
  }
 ],
 "metadata": {
  "kernelspec": {
   "display_name": "Python 3.10.4 64-bit",
   "language": "python",
   "name": "python3"
  },
  "language_info": {
   "codemirror_mode": {
    "name": "ipython",
    "version": 3
   },
   "file_extension": ".py",
   "mimetype": "text/x-python",
   "name": "python",
   "nbconvert_exporter": "python",
   "pygments_lexer": "ipython3",
   "version": "3.10.4"
  },
  "orig_nbformat": 4,
  "vscode": {
   "interpreter": {
    "hash": "916dbcbb3f70747c44a77c7bcd40155683ae19c65e1c03b4aa3499c5328201f1"
   }
  }
 },
 "nbformat": 4,
 "nbformat_minor": 2
}
